import pandas as pd
import numpy as np
import matplotlib.pyplot as plt
import seaborn as sns
from sklearn.preprocessing import MinMaxScaler

# Load datasets
energy_df = pd.read_csv("../data/energy_data.csv")
weather_df = pd.read_csv("../data/weather_data.csv")

# Merge datasets on the 'Date' column
df = pd.merge(energy_df, weather_df, on="Date")

# Handle missing values
df.fillna(df.mean(), inplace=True)

# Feature Scaling (Normalize values between 0 and 1)
scaler = MinMaxScaler()
df[['Temperature (°C)', 'Occupancy', 'Energy Consumption (kWh)']] = scaler.fit_transform(
    df[['Temperature (°C)', 'Occupancy', 'Energy Consumption (kWh)']]
)

# Save cleaned data
df.to_csv("../data/processed_data.csv", index=False)

# Display first few rows
print(df.head())

# Visualize energy consumption trends
plt.figure(figsize=(10, 5))
sns.lineplot(data=df, x="Date", y="Energy Consumption (kWh)", label="Energy Consumption", color="blue")
plt.xticks(rotation=45)
plt.title("Energy Consumption Trends")
plt.xlabel("Date")
plt.ylabel("Energy Consumption (kWh)")
plt.legend()
plt.show()

