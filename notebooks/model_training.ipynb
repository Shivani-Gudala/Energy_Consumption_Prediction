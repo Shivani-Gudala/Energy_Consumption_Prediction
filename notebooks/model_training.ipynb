# 📌 Import necessary libraries
import pandas as pd
import numpy as np
import seaborn as sns
import matplotlib.pyplot as plt
from sklearn.model_selection import train_test_split
from sklearn.ensemble import RandomForestRegressor
from sklearn.linear_model import LinearRegression
from sklearn.metrics import mean_absolute_error, mean_squared_error, r2_score
import joblib

# 📌 Load Dataset
df = pd.read_csv("../data/processed_data.csv")

# 📌 Display first few rows
df.head()

# 📌 Check for missing values
print(df.isnull().sum())

# 📌 Define Input (X) and Target (y)
X = df[['Temperature (°C)', 'Occupancy']]
y = df['Energy Consumption (kWh)']

# 📌 Split Data (80% Train, 20% Test)
X_train, X_test, y_train, y_test = train_test_split(X, y, test_size=0.2, random_state=42)

# 📌 Train Multiple Models

## 1️⃣ Linear Regression
lin_model = LinearRegression()
lin_model.fit(X_train, y_train)
y_pred_lin = lin_model.predict(X_test)

## 2️⃣ Random Forest Regressor
rf_model = RandomForestRegressor(n_estimators=100, random_state=42)
rf_model.fit(X_train, y_train)
y_pred_rf = rf_model.predict(X_test)

# 📌 Evaluate Models
def evaluate_model(model_name, y_test, y_pred):
    print(f"📊 {model_name} Performance:")
    print(f"📌 Mean Absolute Error (MAE): {mean_absolute_error(y_test, y_pred):.2f}")
    print(f"📌 Mean Squared Error (MSE): {mean_squared_error(y_test, y_pred):.2f}")
    print(f"📌 R² Score: {r2_score(y_test, y_pred):.2f}")
    print("--------------------------------------------------")

evaluate_model("Linear Regression", y_test, y_pred_lin)
evaluate_model("Random Forest Regressor", y_test, y_pred_rf)

# 📌 Visualizing Predictions
plt.figure(figsize=(8,5))
sns.scatterplot(x=y_test, y=y_pred_rf, color='blue', label="Predicted vs Actual")
plt.xlabel("Actual Energy Consumption (kWh)")
plt.ylabel("Predicted Energy Consumption (kWh)")
plt.title("Energy Consumption Prediction - Random Forest")
plt.legend()
plt.show()

# 📌 Save the Best Model (Random Forest)
joblib.dump(rf_model, "../src/models/energy_model.pkl")
print("✅ Model Saved: energy_model.pkl")
